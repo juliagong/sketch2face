{
 "cells": [
  {
   "cell_type": "code",
   "execution_count": null,
   "metadata": {},
   "outputs": [],
   "source": [
    "import pickle\n",
    "import numpy as np\n",
    "from PIL import Image\n",
    "import csv\n",
    "import os"
   ]
  },
  {
   "cell_type": "code",
   "execution_count": null,
   "metadata": {},
   "outputs": [],
   "source": [
    "with open('datasets/colorferet_sketch_to_img_map.pickle', 'rb') as f:\n",
    "    colorferet_map = pickle.load(f)"
   ]
  },
  {
   "cell_type": "code",
   "execution_count": null,
   "metadata": {},
   "outputs": [],
   "source": [
    "i = 0\n",
    "for k, v in colorferet_map.items():\n",
    "    print(k, v)\n",
    "    i += 1\n",
    "    if i > 5:\n",
    "        break"
   ]
  },
  {
   "cell_type": "code",
   "execution_count": null,
   "metadata": {},
   "outputs": [],
   "source": [
    "# Testing that you can transform one triangle into another\n",
    "fiducial = np.array([[312, 450, 387], \n",
    "                     [348, 352, 497]])\n",
    "fiducial_3d = np.array([[312, 450, 387], \n",
    "                        [348, 352, 497], \n",
    "                        [1, 1, 1]])\n",
    "goal = np.array([[300, 420, 360], \n",
    "                 [350, 250, 500], \n",
    "                 [0, 0, 0]])\n",
    "w = goal @ np.linalg.inv(fiducial_3d)\n",
    "mat = w[:2, :2]\n",
    "translation = w[:2, 2:3]\n",
    "mat @ fiducial + translation"
   ]
  },
  {
   "cell_type": "code",
   "execution_count": null,
   "metadata": {},
   "outputs": [],
   "source": [
    "# Expects fiducial_points is 3 x 2 numpy array\n",
    "def align_face(img, fiducial_points, out_width, out_height, point_targets=None):\n",
    "    orig_width, orig_height = img.size\n",
    "    if point_targets is None:\n",
    "        point_targets = np.array([[0.375, 0.625, 0.5], [0.5, 0.5, 0.72]]) * np.array([[out_width], [out_height]])\n",
    "    # Pupil 1: (0.4, 0.5), Pupil 2: (0.6, 0.5), Mouth: (0.5, 0.7)\n",
    "    \n",
    "    fiducial_3d = np.vstack((fiducial_points.T, np.ones((1, 3))))\n",
    "    transform = np.vstack((point_targets @ np.linalg.inv(fiducial_3d), np.array([0, 0, 1])))\n",
    "    transform_inv = np.linalg.inv(transform)\n",
    "\n",
    "    data = transform_inv.flatten()[:6]\n",
    "    return img.transform((out_width, out_height), Image.AFFINE, data)"
   ]
  },
  {
   "cell_type": "code",
   "execution_count": null,
   "metadata": {},
   "outputs": [],
   "source": [
    "out_width = 200\n",
    "out_height = 200\n",
    "square_crop_point_targets = np.array([[0.375, 0.625, 0.5], [0.375, 0.375, 0.65]]) * np.array([[out_width], [out_height]]) # meant to be with output 200 x 250\n",
    "# mega_crop_point_targets = np.array([[0.33, 0.67, 0.5], [0.48, 0.48, 0.83]]) * np.array([[out_width], [out_height]]) # meant to be with square output\n",
    "hyper_crop_point_targets = np.array([[0.31, 0.69, 0.5], [0.5, 0.5, 0.9]]) * np.array([[out_width], [out_height]]) # meant to be with square output"
   ]
  },
  {
   "cell_type": "code",
   "execution_count": null,
   "metadata": {},
   "outputs": [],
   "source": [
    "img1 = Image.open('datasets/colorferet/original_sketch/00001.jpg')\n",
    "fiducial_points = np.zeros((3, 2))\n",
    "with open('datasets/colorferet/sketch_points/00001.3pts', 'r') as f:\n",
    "    reader = csv.reader(f, delimiter= ' ')\n",
    "    for i, row in enumerate(reader):\n",
    "        fiducial_points[i] = row\n",
    "aligned1 = align_face(img1, fiducial_points, out_width, out_height, hyper_crop_point_targets)\n",
    "aligned1"
   ]
  },
  {
   "cell_type": "code",
   "execution_count": null,
   "metadata": {},
   "outputs": [],
   "source": [
    "img = Image.open('datasets/colorferet/color/01006_960627_fa.ppm')\n",
    "fiducial_points = np.zeros((3, 2))\n",
    "with open('datasets/colorferet/photo_points/01006fa010_960627.3pts', 'r') as f:\n",
    "    reader = csv.reader(f, delimiter= ' ')\n",
    "    for i, row in enumerate(reader):\n",
    "        fiducial_points[i] = row\n",
    "fiducial_points += np.array([[-100, 0], [-100, 0], [-100, 0]])\n",
    "aligned = align_face(img, fiducial_points, out_width, out_height, square_crop_point_targets)\n",
    "aligned"
   ]
  },
  {
   "cell_type": "code",
   "execution_count": null,
   "metadata": {},
   "outputs": [],
   "source": [
    "aligned1 = align_face(img1, fiducial_points, out_width=200, out_height=250)\n",
    "aligned1.save('datasets/colorferet/aligned_sketches/00001.jpg', 'JPEG')\n"
   ]
  },
  {
   "cell_type": "code",
   "execution_count": null,
   "metadata": {},
   "outputs": [],
   "source": [
    "# duplicates\n",
    "unmapped_duplicates = [\n",
    "    '00615_941031_fa.ppm',\n",
    "    '00185_940422_fb.ppm',\n",
    "    '00621_941121_fb.ppm',\n",
    "    '00210_940422_fb.ppm',\n",
    "    '00256_940128_fa.ppm',\n",
    "    '00498_960627_fa.ppm',\n",
    "    '00012_930831_fa_a.ppm', # w funny sunglasses\n",
    "    '00283_940307_fa.ppm',\n",
    "    '00531_960627_fa.ppm',\n",
    "    '00807_960530_fa.ppm',\n",
    "    '00184_940422_fa.ppm'\n",
    "]\n",
    "\n",
    "typo_color_to_points = {\n",
    "    '00429_940422_fa.ppm': '00429fa011_940422.3pts',\n",
    "    '00086_940422_fa.ppm': '00086fa010_930422.3pts', \n",
    "    '00450_940422_fa.ppm': '00450fa011_940422.3pts',\n",
    "    '00436_940422_fa.ppm': '00436fa011_940422.3pts', \n",
    "    '00378_940422_fa.ppm': '00378fa011_940422.3pts',\n",
    "    '00442_940422_fa.ppm': '00442fa011_940422.3pts',\n",
    "    '00095_940128_fa.ppm': '00095fa010_930128.3pts',\n",
    "    '00458_940422_fa.ppm': '00458fa011_940422.3pts',\n",
    "    '01208_94012some8_fa_a.ppm': '01208fa010_960627.3pts'\n",
    "}"
   ]
  },
  {
   "cell_type": "code",
   "execution_count": null,
   "metadata": {},
   "outputs": [],
   "source": [
    "def align_all_in_folder(src_dir, points_dir, dest_dir, out_width, out_height, point_targets, src_name_to_pts_name, src_to_pts_special, unmapped_duplicates, preprocess_fiducials=None, fixed_fiducials=None):\n",
    "    for root, _, fnames in sorted(os.walk(src_dir)):\n",
    "        for fname in fnames:\n",
    "            if fname in unmapped_duplicates:\n",
    "                continue\n",
    "            path = os.path.join(root, fname)\n",
    "            try:\n",
    "                with open(path, 'rb') as image_file:\n",
    "                    img = Image.open(path)\n",
    "            except Exception as err:\n",
    "                print(fname, err)\n",
    "                continue\n",
    "            with open(path, 'rb') as image_file:\n",
    "                img = Image.open(path)\n",
    "                fiducial_points = np.zeros((3, 2))\n",
    "                if fixed_fiducials is not None:\n",
    "                    fiducial_points = fixed_fiducials\n",
    "                else:\n",
    "                    if fname in src_to_pts_special:\n",
    "                        points_fname = src_to_pts_special[fname]\n",
    "                    else:\n",
    "                        points_fname = src_name_to_pts_name(fname)\n",
    "                    points_path = os.path.join(points_dir, points_fname)\n",
    "                    try:\n",
    "                        with open(points_path, 'r') as f:\n",
    "                            reader = csv.reader(f, delimiter= ' ')\n",
    "                            for i, row in enumerate(reader):\n",
    "                                fiducial_points[i] = row\n",
    "                    except OSError as err:\n",
    "                        print(fname, err)\n",
    "                        continue\n",
    "                    if preprocess_fiducials is not None:\n",
    "                        fiducial_points = preprocess_fiducials(fiducial_points)\n",
    "                aligned = align_face(img, fiducial_points, out_width, out_height, point_targets)\n",
    "                out_fname_jpg = fname[:-3] + 'jpg'\n",
    "                out_path = os.path.join(dest_dir, out_fname_jpg)\n",
    "                with open(out_path, 'wb') as out_file:\n",
    "                    aligned.save(out_file, 'JPEG')"
   ]
  },
  {
   "cell_type": "code",
   "execution_count": null,
   "metadata": {},
   "outputs": [],
   "source": [
    "align_all_in_folder('datasets/colorferet/original_sketch', \n",
    "                    'datasets/colorferet/sketch_points',\n",
    "                    'datasets/colorferet/supercropped_sketches',\n",
    "                    out_width,\n",
    "                    out_heightloa,\n",
    "                    hyper_crop_point_targets,\n",
    "                    lambda name: name[:-4] + '.3pts',\n",
    "                    {},\n",
    "                    [])\n"
   ]
  },
  {
   "cell_type": "code",
   "execution_count": null,
   "metadata": {},
   "outputs": [],
   "source": [
    "align_all_in_folder('datasets/colorferet/original_sketch', \n",
    "                    'datasets/colorferet/sketch_points',\n",
    "                    'datasets/colorferet/cropped_sketches',\n",
    "                    out_width,\n",
    "                    out_height,\n",
    "                    square_crop_point_targets,\n",
    "                    lambda name: name[:-4] + '.3pts',\n",
    "                    {},\n",
    "                    [])"
   ]
  },
  {
   "cell_type": "code",
   "execution_count": null,
   "metadata": {},
   "outputs": [],
   "source": [
    "align_all_in_folder('datasets/colorferet/color', \n",
    "                    'datasets/colorferet/photo_points',\n",
    "                    'datasets/colorferet/supercropped_color',\n",
    "                    out_width,\n",
    "                    out_height,\n",
    "                    hyper_crop_point_targets,\n",
    "                    lambda src: src[:5] + src[13:15] + '010_' + src[6:12] + '.3pts',\n",
    "                    typo_color_to_points,\n",
    "                    unmapped_duplicates,\n",
    "                    lambda fiducials: fiducials + np.array([[-100, 0], [-100, 0], [-100, 0]]))"
   ]
  },
  {
   "cell_type": "code",
   "execution_count": null,
   "metadata": {},
   "outputs": [],
   "source": [
    "align_all_in_folder('datasets/colorferet/color', \n",
    "                    'datasets/colorferet/photo_points',\n",
    "                    'datasets/colorferet/cropped_color',\n",
    "                    out_width,\n",
    "                    out_height,\n",
    "                    square_crop_point_targets,\n",
    "                    lambda src: src[:5] + src[13:15] + '010_' + src[6:12] + '.3pts',\n",
    "                    typo_color_to_points,\n",
    "                    unmapped_duplicates,\n",
    "                    lambda fiducials: fiducials + np.array([[-100, 0], [-100, 0], [-100, 0]]))"
   ]
  },
  {
   "cell_type": "code",
   "execution_count": null,
   "metadata": {},
   "outputs": [],
   "source": [
    "cuhk_fiducials = np.array([[0.375, 0.625, 0.5], [0.5, 0.5, 0.74]]) * np.array([[200], [250]]) # meant to be with output 200 x 250\n",
    "cuhk_fiducials = cuhk_fiducials.T"
   ]
  },
  {
   "cell_type": "code",
   "execution_count": null,
   "metadata": {},
   "outputs": [],
   "source": [
    "imgs_and_save_paths = align_all_in_folder('datasets/CUHK/train', \n",
    "                    'doesnt-matter',\n",
    "                    'datasets/CUHK/cropped',\n",
    "                    out_width,\n",
    "                    out_height,\n",
    "                    square_crop_point_targets,\n",
    "                    None,\n",
    "                    None,\n",
    "                    [],\n",
    "                    None,\n",
    "                    cuhk_fiducials)"
   ]
  },
  {
   "cell_type": "code",
   "execution_count": null,
   "metadata": {},
   "outputs": [],
   "source": [
    "imgs_and_save_paths = align_all_in_folder('datasets/CUHK/train', \n",
    "                    'doesnt-matter',\n",
    "                    'datasets/CUHK/supercropped',\n",
    "                    out_width,\n",
    "                    out_height,\n",
    "                    hyper_crop_point_targets,\n",
    "                    None,\n",
    "                    None,\n",
    "                    [],\n",
    "                    None,\n",
    "                    cuhk_fiducials)"
   ]
  },
  {
   "cell_type": "code",
   "execution_count": null,
   "metadata": {},
   "outputs": [],
   "source": []
  }
 ],
 "metadata": {
  "kernelspec": {
   "display_name": "Python (sketch2face)",
   "language": "python",
   "name": "sketch2face"
  },
  "language_info": {
   "codemirror_mode": {
    "name": "ipython",
    "version": 3
   },
   "file_extension": ".py",
   "mimetype": "text/x-python",
   "name": "python",
   "nbconvert_exporter": "python",
   "pygments_lexer": "ipython3",
   "version": "3.7.3"
  }
 },
 "nbformat": 4,
 "nbformat_minor": 2
}
