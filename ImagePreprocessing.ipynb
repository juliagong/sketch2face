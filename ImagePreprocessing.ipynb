{
 "cells": [
  {
   "cell_type": "code",
   "execution_count": null,
   "metadata": {},
   "outputs": [],
   "source": [
    "import pickle\n",
    "import numpy as np\n",
    "from PIL import Image\n",
    "import csv"
   ]
  },
  {
   "cell_type": "code",
   "execution_count": null,
   "metadata": {},
   "outputs": [],
   "source": [
    "with open('datasets/colorferet_sketch_to_img_map.pickle', 'rb') as f:\n",
    "    colorferet_map = pickle.load(f)"
   ]
  },
  {
   "cell_type": "code",
   "execution_count": null,
   "metadata": {},
   "outputs": [],
   "source": [
    "i = 0\n",
    "for k, v in colorferet_map.items():\n",
    "    print(k, v)\n",
    "    i += 1\n",
    "    if i > 5:\n",
    "        break"
   ]
  },
  {
   "cell_type": "code",
   "execution_count": null,
   "metadata": {},
   "outputs": [],
   "source": [
    "# Testing that you can transform one triangle into another\n",
    "fiducial = np.array([[312, 450, 387], \n",
    "                     [348, 352, 497]])\n",
    "fiducial_3d = np.array([[312, 450, 387], \n",
    "                        [348, 352, 497], \n",
    "                        [1, 1, 1]])\n",
    "goal = np.array([[300, 420, 360], \n",
    "                 [350, 250, 500], \n",
    "                 [0, 0, 0]])\n",
    "w = goal @ np.linalg.inv(fiducial_3d)\n",
    "mat = w[:2, :2]\n",
    "translation = w[:2, 2:3]\n",
    "mat @ fiducial + translation"
   ]
  },
  {
   "cell_type": "code",
   "execution_count": null,
   "metadata": {},
   "outputs": [],
   "source": [
    "# Expects fiducial_points is 3 x 2 numpy array\n",
    "def align_face(img, fiducial_points, point_targets=None, output_size=512):\n",
    "    orig_width, orig_height = img.size\n",
    "    if point_targets is None:\n",
    "        point_targets = np.array([[0.4, 0.6, 0.5], [0.5, 0.5, 0.72]]) * output_size\n",
    "    # Pupil 1: (0.4, 0.5), Pupil 2: (0.6, 0.5), Mouth: (0.5, 0.7)\n",
    "    \n",
    "    fiducial_3d = np.vstack((fiducial_points.T, np.ones((1, 3))))\n",
    "    transform = np.vstack((point_targets @ np.linalg.inv(fiducial_3d), np.array([0, 0, 1])))\n",
    "    transform_inv = np.linalg.inv(transform)\n",
    "\n",
    "    data = transform_inv.flatten()[:6]\n",
    "    return img.transform((output_size, output_size), Image.AFFINE, data)"
   ]
  },
  {
   "cell_type": "code",
   "execution_count": null,
   "metadata": {},
   "outputs": [],
   "source": [
    "img1 = Image.open('datasets/colorferet/original_sketch/00001.jpg')\n",
    "fiducial_points = np.zeros((3, 2))\n",
    "with open('datasets/colorferet/sketch_points/00001.3pts', 'r') as f:\n",
    "    reader = csv.reader(f, delimiter= ' ')\n",
    "    for i, row in enumerate(reader):\n",
    "        fiducial_points[i] = row"
   ]
  },
  {
   "cell_type": "code",
   "execution_count": null,
   "metadata": {},
   "outputs": [],
   "source": [
    "align_face(img1, fiducial_points)"
   ]
  },
  {
   "cell_type": "code",
   "execution_count": null,
   "metadata": {},
   "outputs": [],
   "source": []
  }
 ],
 "metadata": {
  "kernelspec": {
   "display_name": "Python (sketch2face)",
   "language": "python",
   "name": "sketch2face"
  },
  "language_info": {
   "codemirror_mode": {
    "name": "ipython",
    "version": 3
   },
   "file_extension": ".py",
   "mimetype": "text/x-python",
   "name": "python",
   "nbconvert_exporter": "python",
   "pygments_lexer": "ipython3",
   "version": "3.7.3"
  }
 },
 "nbformat": 4,
 "nbformat_minor": 2
}
