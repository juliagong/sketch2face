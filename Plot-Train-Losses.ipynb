{
 "cells": [
  {
   "cell_type": "code",
   "execution_count": null,
   "metadata": {},
   "outputs": [],
   "source": [
    "log_path = \"checkpoints/finetune_edges2shoes/loss_log.txt\""
   ]
  },
  {
   "cell_type": "code",
   "execution_count": null,
   "metadata": {},
   "outputs": [],
   "source": [
    "%matplotlib notebook\n",
    "\n",
    "import matplotlib.pyplot as plt\n",
    "import numpy as np\n",
    "import re\n",
    "\n",
    "plt.rcParams['figure.figsize'] = (10.0, 8.0) # set default size of plots\n",
    "plt.rcParams['image.interpolation'] = 'nearest'\n",
    "plt.rcParams['image.cmap'] = 'gray'"
   ]
  },
  {
   "cell_type": "code",
   "execution_count": null,
   "metadata": {},
   "outputs": [],
   "source": [
    "plt.subplot(3, 1, 1)\n",
    "plt.title('Training losses')\n",
    "plt.xlabel('Iteration')\n",
    "\n",
    "with open(log_path, 'r') as f:\n",
    "    loglines = f.readlines()\n",
    "\n",
    "loss_histories = {\n",
    "    'G_GAN': [],\n",
    "    'G_L1': [],\n",
    "    'D_real': [],\n",
    "    'D_fake': []\n",
    "}\n",
    "\n",
    "for line in loglines:\n",
    "    regex = r'.*G_GAN: (.*) G_L1: (.*) D_real: (.*) D_fake: (.*)$'\n",
    "    match = re.search(regex, line)\n",
    "    if not match:\n",
    "        continue\n",
    "    loss_histories['G_GAN'].append(float(match[1]))\n",
    "    loss_histories['G_L1'].append(float(match[2]))\n",
    "    loss_histories['D_real'].append(float(match[3]))\n",
    "    loss_histories['D_fake'].append(float(match[4]))\n",
    "\n",
    "for loss_type, history in loss_histories.items():\n",
    "    plt.subplot(3, 1, 1)\n",
    "    plt.plot([100*x for x in range(len(history))], history, 'o', label=loss_type, markersize=3)\n",
    "    plt.legend(loc='upper right')"
   ]
  }
 ],
 "metadata": {
  "kernelspec": {
   "display_name": "Python (sketch2face)",
   "language": "python",
   "name": "sketch2face"
  },
  "language_info": {
   "codemirror_mode": {
    "name": "ipython",
    "version": 3
   },
   "file_extension": ".py",
   "mimetype": "text/x-python",
   "name": "python",
   "nbconvert_exporter": "python",
   "pygments_lexer": "ipython3",
   "version": "3.7.3"
  }
 },
 "nbformat": 4,
 "nbformat_minor": 2
}
