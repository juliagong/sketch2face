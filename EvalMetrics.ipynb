{
 "cells": [
  {
   "cell_type": "code",
   "execution_count": 2,
   "metadata": {},
   "outputs": [],
   "source": [
    "# Put in names here\n",
    "result_image_path = \"results/basetest2/test_latest/images\""
   ]
  },
  {
   "cell_type": "code",
   "execution_count": 7,
   "metadata": {},
   "outputs": [
    {
     "ename": "ImportError",
     "evalue": "cannot import name 'structural_similarity' from 'skimage.measure' (/Users/mattmistele/miniconda3/envs/sketch2face/lib/python3.7/site-packages/skimage/measure/__init__.py)",
     "output_type": "error",
     "traceback": [
      "\u001b[0;31m---------------------------------------------------------------------------\u001b[0m",
      "\u001b[0;31mImportError\u001b[0m                               Traceback (most recent call last)",
      "\u001b[0;32m<ipython-input-7-a66023e579cf>\u001b[0m in \u001b[0;36m<module>\u001b[0;34m\u001b[0m\n\u001b[1;32m      5\u001b[0m \u001b[0;32mimport\u001b[0m \u001b[0mcv2\u001b[0m\u001b[0;34m\u001b[0m\u001b[0;34m\u001b[0m\u001b[0m\n\u001b[1;32m      6\u001b[0m \u001b[0;32mimport\u001b[0m \u001b[0mnumpy\u001b[0m \u001b[0;32mas\u001b[0m \u001b[0mnp\u001b[0m\u001b[0;34m\u001b[0m\u001b[0;34m\u001b[0m\u001b[0m\n\u001b[0;32m----> 7\u001b[0;31m \u001b[0;32mfrom\u001b[0m \u001b[0mskimage\u001b[0m\u001b[0;34m.\u001b[0m\u001b[0mmeasure\u001b[0m \u001b[0;32mimport\u001b[0m \u001b[0mstructural_similarity\u001b[0m \u001b[0;32mas\u001b[0m \u001b[0mssim\u001b[0m\u001b[0;34m\u001b[0m\u001b[0;34m\u001b[0m\u001b[0m\n\u001b[0m",
      "\u001b[0;31mImportError\u001b[0m: cannot import name 'structural_similarity' from 'skimage.measure' (/Users/mattmistele/miniconda3/envs/sketch2face/lib/python3.7/site-packages/skimage/measure/__init__.py)"
     ]
    }
   ],
   "source": [
    "import torch\n",
    "import os\n",
    "import re\n",
    "from PIL import Image\n",
    "import cv2\n",
    "import numpy as np\n",
    "from skimage.measure import structural_similarity as ssim"
   ]
  },
  {
   "cell_type": "code",
   "execution_count": null,
   "metadata": {},
   "outputs": [],
   "source": [
    "def make_image_path_pairs(dir):\n",
    "    image_pairs = []\n",
    "    assert os.path.isdir(dir), '%s is not a valid directory' % dir\n",
    "\n",
    "    fake_regex = r'(.*)_fake_B.png'\n",
    "    real_regex = r'(.*)_real_B.png'\n",
    "    fake_paths = {}\n",
    "    real_paths = {}\n",
    "\n",
    "    for root, _, fnames in sorted(os.walk(dir)):\n",
    "        for fname in fnames:\n",
    "            path = os.path.join(root, fname)\n",
    "            match = re.search(fake_regex, fname)\n",
    "            if match:\n",
    "                key = match[1]\n",
    "                if key in real_paths:\n",
    "                    real_path = real_paths[key]\n",
    "                    image_pairs.append((path, real_path))\n",
    "                    del real_paths[key]\n",
    "                    continue\n",
    "                real_paths[key] = path\n",
    "                continue\n",
    "\n",
    "            match = re.search(real_regex, fname)\n",
    "            if match:\n",
    "                key = match[1]\n",
    "                if key in fake_paths:\n",
    "                    fake_path = fake_paths[key]\n",
    "                    image_pairs.append((fake_path, path))\n",
    "                    del fake_paths[key]\n",
    "                    continue\n",
    "                real_paths[key] = path\n",
    "    return image_pairs"
   ]
  },
  {
   "cell_type": "code",
   "execution_count": 6,
   "metadata": {},
   "outputs": [
    {
     "ename": "NameError",
     "evalue": "name 'make_image_path_pairs' is not defined",
     "output_type": "error",
     "traceback": [
      "\u001b[0;31m---------------------------------------------------------------------------\u001b[0m",
      "\u001b[0;31mNameError\u001b[0m                                 Traceback (most recent call last)",
      "\u001b[0;32m<ipython-input-6-f2629d52af1c>\u001b[0m in \u001b[0;36m<module>\u001b[0;34m\u001b[0m\n\u001b[1;32m      1\u001b[0m \u001b[0;31m# image_pairs_PIL = [(Image.open(fake).convert('RGB'), Image.open(real).convert('RGB')) for fake, real in image_path_pairs]\u001b[0m\u001b[0;34m\u001b[0m\u001b[0;34m\u001b[0m\u001b[0;34m\u001b[0m\u001b[0m\n\u001b[0;32m----> 2\u001b[0;31m \u001b[0mimage_path_pairs\u001b[0m \u001b[0;34m=\u001b[0m \u001b[0mmake_image_path_pairs\u001b[0m\u001b[0;34m(\u001b[0m\u001b[0mresult_image_path\u001b[0m\u001b[0;34m)\u001b[0m\u001b[0;34m\u001b[0m\u001b[0;34m\u001b[0m\u001b[0m\n\u001b[0m\u001b[1;32m      3\u001b[0m \u001b[0mimage_pairs\u001b[0m \u001b[0;34m=\u001b[0m \u001b[0;34m[\u001b[0m\u001b[0;34m(\u001b[0m\u001b[0mcv2\u001b[0m\u001b[0;34m.\u001b[0m\u001b[0mimread\u001b[0m\u001b[0;34m(\u001b[0m\u001b[0mfake\u001b[0m\u001b[0;34m)\u001b[0m\u001b[0;34m,\u001b[0m \u001b[0mcv2\u001b[0m\u001b[0;34m.\u001b[0m\u001b[0mimread\u001b[0m\u001b[0;34m(\u001b[0m\u001b[0mreal\u001b[0m\u001b[0;34m)\u001b[0m\u001b[0;34m)\u001b[0m \u001b[0;32mfor\u001b[0m \u001b[0mfake\u001b[0m\u001b[0;34m,\u001b[0m \u001b[0mreal\u001b[0m \u001b[0;32min\u001b[0m \u001b[0mimage_path_pairs\u001b[0m\u001b[0;34m]\u001b[0m\u001b[0;34m\u001b[0m\u001b[0;34m\u001b[0m\u001b[0m\n",
      "\u001b[0;31mNameError\u001b[0m: name 'make_image_path_pairs' is not defined"
     ]
    }
   ],
   "source": [
    "# image_pairs_PIL = [(Image.open(fake).convert('RGB'), Image.open(real).convert('RGB')) for fake, real in image_path_pairs]\n",
    "image_path_pairs = make_image_path_pairs(result_image_path)\n",
    "image_pairs = [(cv2.imread(fake), cv2.imread(real)) for fake, real in image_path_pairs]"
   ]
  },
  {
   "cell_type": "code",
   "execution_count": 4,
   "metadata": {},
   "outputs": [],
   "source": [
    "def l1_distance(imageA, imageB):\n",
    "    sq_error = np.sum(abs(imageA.astype(\"float\") - imageB.astype(\"float\")))\n",
    "    return sq_error / float(imageA.shape[0] * imageB.shape[1] * imageB.shape[2])\n",
    "\n",
    "def l2_distance(imageA, imageB):\n",
    "    sq_error = np.sum((imageA.astype(\"float\") - imageB.astype(\"float\"))**2)\n",
    "    return sq_error / float(imageA.shape[0] * imageB.shape[1] * imageB.shape[2])"
   ]
  },
  {
   "cell_type": "code",
   "execution_count": 5,
   "metadata": {},
   "outputs": [
    {
     "ename": "NameError",
     "evalue": "name 'image_pairs' is not defined",
     "output_type": "error",
     "traceback": [
      "\u001b[0;31m---------------------------------------------------------------------------\u001b[0m",
      "\u001b[0;31mNameError\u001b[0m                                 Traceback (most recent call last)",
      "\u001b[0;32m<ipython-input-5-56dd6ada9b20>\u001b[0m in \u001b[0;36m<module>\u001b[0;34m\u001b[0m\n\u001b[1;32m      2\u001b[0m \u001b[0ml2_distances\u001b[0m \u001b[0;34m=\u001b[0m \u001b[0;34m[\u001b[0m\u001b[0;34m]\u001b[0m\u001b[0;34m\u001b[0m\u001b[0;34m\u001b[0m\u001b[0m\n\u001b[1;32m      3\u001b[0m \u001b[0mssims\u001b[0m \u001b[0;34m=\u001b[0m \u001b[0;34m[\u001b[0m\u001b[0;34m]\u001b[0m\u001b[0;34m\u001b[0m\u001b[0;34m\u001b[0m\u001b[0m\n\u001b[0;32m----> 4\u001b[0;31m \u001b[0;32mfor\u001b[0m \u001b[0mfake\u001b[0m\u001b[0;34m,\u001b[0m \u001b[0mreal\u001b[0m \u001b[0;32min\u001b[0m \u001b[0mimage_pairs\u001b[0m\u001b[0;34m:\u001b[0m\u001b[0;34m\u001b[0m\u001b[0;34m\u001b[0m\u001b[0m\n\u001b[0m\u001b[1;32m      5\u001b[0m     \u001b[0ml1_distances\u001b[0m\u001b[0;34m.\u001b[0m\u001b[0mappend\u001b[0m\u001b[0;34m(\u001b[0m\u001b[0ml1_distance\u001b[0m\u001b[0;34m(\u001b[0m\u001b[0mfake\u001b[0m\u001b[0;34m,\u001b[0m \u001b[0mreal\u001b[0m\u001b[0;34m)\u001b[0m\u001b[0;34m)\u001b[0m\u001b[0;34m\u001b[0m\u001b[0;34m\u001b[0m\u001b[0m\n\u001b[1;32m      6\u001b[0m     \u001b[0ml2_distances\u001b[0m\u001b[0;34m.\u001b[0m\u001b[0mappend\u001b[0m\u001b[0;34m(\u001b[0m\u001b[0ml2_distance\u001b[0m\u001b[0;34m(\u001b[0m\u001b[0mfake\u001b[0m\u001b[0;34m,\u001b[0m \u001b[0mreal\u001b[0m\u001b[0;34m)\u001b[0m\u001b[0;34m)\u001b[0m\u001b[0;34m\u001b[0m\u001b[0;34m\u001b[0m\u001b[0m\n",
      "\u001b[0;31mNameError\u001b[0m: name 'image_pairs' is not defined"
     ]
    }
   ],
   "source": [
    "l1_distances = []\n",
    "l2_distances = []\n",
    "ssims = []\n",
    "for fake, real in image_pairs:\n",
    "    l1_distances.append(l1_distance(fake, real))\n",
    "    l2_distances.append(l2_distance(fake, real))\n",
    "    ssims.append(ssim(fake, real))\n",
    "\n",
    "avg_l1_dist = sum(l1_distances)/len(l1_distances)\n",
    "avg_l2_dist = sum(l2_distances)/len(l2_distances)\n",
    "avg_ssim = sum(ssims)/len(ssims)\n",
    "print(\"Average L1 dist between the {} image pairs: {}\".format(len(l1_distances), avg_l1_dist))\n",
    "print(\"Average L2 dist between the {} image pairs: {}\".format(len(l2_distances), avg_l2_dist))\n",
    "print(\"Average SSIM between the {} image pairs: {}\".format(len(ssims), avg_ssim))"
   ]
  },
  {
   "cell_type": "code",
   "execution_count": null,
   "metadata": {},
   "outputs": [],
   "source": []
  }
 ],
 "metadata": {
  "kernelspec": {
   "display_name": "Python (sketch2face)",
   "language": "python",
   "name": "sketch2face"
  },
  "language_info": {
   "codemirror_mode": {
    "name": "ipython",
    "version": 3
   },
   "file_extension": ".py",
   "mimetype": "text/x-python",
   "name": "python",
   "nbconvert_exporter": "python",
   "pygments_lexer": "ipython3",
   "version": "3.7.3"
  }
 },
 "nbformat": 4,
 "nbformat_minor": 2
}
