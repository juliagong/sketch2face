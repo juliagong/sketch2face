{
 "cells": [
  {
   "cell_type": "code",
   "execution_count": 1,
   "metadata": {},
   "outputs": [],
   "source": [
    "# Put in names here\n",
    "result_image_path = \"results/finetune_edges2shoes/test_latest/images\""
   ]
  },
  {
   "cell_type": "code",
   "execution_count": 2,
   "metadata": {},
   "outputs": [],
   "source": [
    "import torch\n",
    "import os\n",
    "import re\n",
    "from PIL import Image\n",
    "import cv2\n",
    "import numpy as np\n",
    "from skimage.measure import compare_ssim as ssim"
   ]
  },
  {
   "cell_type": "code",
   "execution_count": 3,
   "metadata": {},
   "outputs": [],
   "source": [
    "def make_image_path_pairs(dir):\n",
    "    image_pairs = []\n",
    "    assert os.path.isdir(dir), '%s is not a valid directory' % dir\n",
    "\n",
    "    fake_regex = r'(.*)_fake_B.png'\n",
    "    real_regex = r'(.*)_real_B.png'\n",
    "    fake_paths = {}\n",
    "    real_paths = {}\n",
    "\n",
    "    for root, _, fnames in sorted(os.walk(dir)):\n",
    "        for fname in fnames:\n",
    "            path = os.path.join(root, fname)\n",
    "            match = re.search(fake_regex, fname)\n",
    "            if match:\n",
    "                key = match[1]\n",
    "                if key in real_paths:\n",
    "                    real_path = real_paths[key]\n",
    "                    image_pairs.append((path, real_path))\n",
    "                    del real_paths[key]\n",
    "                    continue\n",
    "                fake_paths[key] = path\n",
    "                continue\n",
    "\n",
    "            match = re.search(real_regex, fname)\n",
    "            if match:\n",
    "                key = match[1]\n",
    "                if key in fake_paths:\n",
    "                    fake_path = fake_paths[key]\n",
    "                    image_pairs.append((fake_path, path))\n",
    "                    del fake_paths[key]\n",
    "                    continue\n",
    "                real_paths[key] = path\n",
    "    return image_pairs"
   ]
  },
  {
   "cell_type": "code",
   "execution_count": 4,
   "metadata": {},
   "outputs": [],
   "source": [
    "# image_pairs_PIL = [(Image.open(fake).convert('RGB'), Image.open(real).convert('RGB')) for fake, real in image_path_pairs]\n",
    "image_path_pairs = make_image_path_pairs(result_image_path)\n",
    "image_pairs = [(cv2.imread(fake), cv2.imread(real)) for fake, real in image_path_pairs]"
   ]
  },
  {
   "cell_type": "code",
   "execution_count": 5,
   "metadata": {},
   "outputs": [],
   "source": [
    "def MAE(imageA, imageB): # same as torch.nn.L1Loss, which is put out\n",
    "    abs_error = np.sum(abs(imageA.astype(\"float\") - imageB.astype(\"float\")))\n",
    "    mean_abs_error = abs_error / float(imageA.shape[0] * imageB.shape[1] * imageB.shape[2])\n",
    "    return mean_abs_error\n",
    "\n",
    "def RMSE(imageA, imageB): # Root-mean-squared error, equivalent of L2\n",
    "    sq_error = np.sum((imageA.astype(\"float\") - imageB.astype(\"float\"))**2)\n",
    "    mse = sq_error / float(imageA.shape[0] * imageB.shape[1] * imageB.shape[2])\n",
    "    return np.sqrt(mse)"
   ]
  },
  {
   "cell_type": "code",
   "execution_count": 6,
   "metadata": {},
   "outputs": [
    {
     "name": "stdout",
     "output_type": "stream",
     "text": [
      "Average mean average error (l1 loss) between the 294 image pairs: 35.24483533240771\n",
      "Average root mean squared error (l2 loss) between the 294 image pairs: 56.928349348058234\n",
      "Average SSIM between the 294 image pairs: 0.486556817458017\n"
     ]
    }
   ],
   "source": [
    "l1_distances = []\n",
    "l2_distances = []\n",
    "ssims = []\n",
    "for fake, real in image_pairs:\n",
    "    l1_distances.append(MAE(fake, real))\n",
    "    l2_distances.append(RMSE(fake, real))\n",
    "    ssims.append(ssim(fake, real, multichannel=True))\n",
    "\n",
    "avg_l1_dist = sum(l1_distances)/len(l1_distances)\n",
    "avg_l2_dist = sum(l2_distances)/len(l2_distances)\n",
    "avg_ssim = sum(ssims)/len(ssims)\n",
    "print(\"Average mean average error (l1 loss) between the {} image pairs: {}\".format(len(l1_distances), avg_l1_dist))\n",
    "print(\"Average root mean squared error (l2 loss) between the {} image pairs: {}\".format(len(l2_distances), avg_l2_dist))\n",
    "print(\"Average SSIM between the {} image pairs: {}\".format(len(ssims), avg_ssim))"
   ]
  }
 ],
 "metadata": {
  "kernelspec": {
   "display_name": "Python (sketch2face)",
   "language": "python",
   "name": "sketch2face"
  },
  "language_info": {
   "codemirror_mode": {
    "name": "ipython",
    "version": 3
   },
   "file_extension": ".py",
   "mimetype": "text/x-python",
   "name": "python",
   "nbconvert_exporter": "python",
   "pygments_lexer": "ipython3",
   "version": "3.7.3"
  }
 },
 "nbformat": 4,
 "nbformat_minor": 2
}
